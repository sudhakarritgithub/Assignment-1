{
 "cells": [
  {
   "cell_type": "markdown",
   "id": "aac77fa0-4e95-4151-a649-7081e58193c4",
   "metadata": {},
   "source": [
    "Ques 1. Create one variable containing following type of data:"
   ]
  },
  {
   "cell_type": "markdown",
   "id": "6ef758a3-1d3c-43e4-8a1b-c38d4138260a",
   "metadata": {},
   "source": [
    "String"
   ]
  },
  {
   "cell_type": "code",
   "execution_count": 1,
   "id": "97c696a7-ee43-489e-a7f3-0254eb2ed631",
   "metadata": {},
   "outputs": [],
   "source": [
    "a = \"sudhakar\""
   ]
  },
  {
   "cell_type": "markdown",
   "id": "adc3e2ba-b0dc-48a5-8ad8-7a846d8064b0",
   "metadata": {},
   "source": [
    "List"
   ]
  },
  {
   "cell_type": "code",
   "execution_count": 2,
   "id": "6cd97099-164e-454c-96e8-4bb9338e4274",
   "metadata": {},
   "outputs": [],
   "source": [
    "b = [2,3,4,5,\"pwskills\",True,55.087,3+2j]"
   ]
  },
  {
   "cell_type": "markdown",
   "id": "1723e60e-9a0f-48c3-bb93-0a9382d24360",
   "metadata": {},
   "source": [
    "Float"
   ]
  },
  {
   "cell_type": "code",
   "execution_count": 3,
   "id": "6eba3508-3ee8-43a0-96ff-501f3e1f2645",
   "metadata": {},
   "outputs": [],
   "source": [
    "c = 89.756"
   ]
  },
  {
   "cell_type": "markdown",
   "id": "2290757a-411c-4e6b-a3dd-2972df768cf9",
   "metadata": {},
   "source": [
    "Tuple"
   ]
  },
  {
   "cell_type": "code",
   "execution_count": 43,
   "id": "5c931886-2aac-42c7-81c9-62863948d545",
   "metadata": {},
   "outputs": [],
   "source": [
    "d = (10,20,30,40,50)"
   ]
  },
  {
   "cell_type": "markdown",
   "id": "fd1d8350-4a75-4897-a7f3-9928018c1b7d",
   "metadata": {},
   "source": [
    "Ques 2. Given are some following variables containing data:"
   ]
  },
  {
   "cell_type": "code",
   "execution_count": 6,
   "id": "29f67d5b-e496-440c-a712-43f021d140ff",
   "metadata": {},
   "outputs": [],
   "source": [
    "var1 = ' '"
   ]
  },
  {
   "cell_type": "markdown",
   "id": "b962f046-776f-40f1-a76b-900de7a32572",
   "metadata": {},
   "source": [
    "'var1' contains an empty string"
   ]
  },
  {
   "cell_type": "code",
   "execution_count": 44,
   "id": "c3682fc6-9a87-4a70-870e-cd84606cb902",
   "metadata": {},
   "outputs": [],
   "source": [
    "var2 = '[DS,ML,Python]'"
   ]
  },
  {
   "cell_type": "markdown",
   "id": "297c3a3e-4bdc-433a-8a07-be5b6febe3b9",
   "metadata": {},
   "source": [
    "'var2' contains a string that appears to represent a list ,  but it's a string with square brackets."
   ]
  },
  {
   "cell_type": "code",
   "execution_count": 12,
   "id": "a53dc46a-4763-407d-9703-493159edcfea",
   "metadata": {},
   "outputs": [],
   "source": [
    "var3 = ['DS','ML','Python']"
   ]
  },
  {
   "cell_type": "markdown",
   "id": "4f1fd57c-0315-43a8-8542-6a99c472f4d5",
   "metadata": {},
   "source": [
    "'var3' is a list containing string"
   ]
  },
  {
   "cell_type": "code",
   "execution_count": 13,
   "id": "44d816e0-9235-4349-b9d2-da0de544bfee",
   "metadata": {},
   "outputs": [],
   "source": [
    "var4 = 1"
   ]
  },
  {
   "cell_type": "markdown",
   "id": "8bd16ca4-a4da-4a08-af28-b029313140cb",
   "metadata": {},
   "source": [
    "'var4' is a integer"
   ]
  },
  {
   "cell_type": "code",
   "execution_count": null,
   "id": "6a1fb53c-8d12-4a98-976b-91514517248a",
   "metadata": {},
   "outputs": [],
   "source": []
  },
  {
   "cell_type": "markdown",
   "id": "99e917c0-3a8c-469d-abfd-523cb6e97732",
   "metadata": {},
   "source": [
    "Ques 3. Explain the use of the following operators using an example:"
   ]
  },
  {
   "cell_type": "markdown",
   "id": "60d558bb-3b6f-4d23-b25b-6b2e191e4c99",
   "metadata": {},
   "source": [
    "'/' (Division Operator)\n",
    "This operator is used for division in python"
   ]
  },
  {
   "cell_type": "code",
   "execution_count": 17,
   "id": "63d7572a-1ae3-4068-af83-b474c2d5d7f5",
   "metadata": {},
   "outputs": [
    {
     "data": {
      "text/plain": [
       "2.0"
      ]
     },
     "execution_count": 17,
     "metadata": {},
     "output_type": "execute_result"
    }
   ],
   "source": [
    "10/5"
   ]
  },
  {
   "cell_type": "markdown",
   "id": "216e1aac-1521-433e-873c-ab0992750c80",
   "metadata": {},
   "source": [
    "'%'(Modulas Operator). This operator is used to find the remainder of a division operator"
   ]
  },
  {
   "cell_type": "code",
   "execution_count": 18,
   "id": "1b029941-8777-4b90-a873-b45aa3bf996a",
   "metadata": {},
   "outputs": [
    {
     "data": {
      "text/plain": [
       "1"
      ]
     },
     "execution_count": 18,
     "metadata": {},
     "output_type": "execute_result"
    }
   ],
   "source": [
    "5%4"
   ]
  },
  {
   "cell_type": "markdown",
   "id": "90bdb637-e737-4770-ae7c-d4d298db37ad",
   "metadata": {},
   "source": [
    "'//' (Floor Division Operator). This operator is used for floor division."
   ]
  },
  {
   "cell_type": "code",
   "execution_count": 21,
   "id": "7703be8a-929d-48c6-bff1-4d9a1ebc8596",
   "metadata": {},
   "outputs": [
    {
     "data": {
      "text/plain": [
       "2"
      ]
     },
     "execution_count": 21,
     "metadata": {},
     "output_type": "execute_result"
    }
   ],
   "source": [
    "8//4"
   ]
  },
  {
   "cell_type": "markdown",
   "id": "9a558225-761b-4ab2-804e-dd25db167154",
   "metadata": {},
   "source": [
    "'**' (Exponentiation Operator).\n",
    "This operator is used for exponentiation, raising a number to a power."
   ]
  },
  {
   "cell_type": "code",
   "execution_count": 22,
   "id": "39eaec57-a9cf-40f0-b35e-d962cfd2a425",
   "metadata": {},
   "outputs": [
    {
     "data": {
      "text/plain": [
       "16"
      ]
     },
     "execution_count": 22,
     "metadata": {},
     "output_type": "execute_result"
    }
   ],
   "source": [
    "2**4"
   ]
  },
  {
   "cell_type": "code",
   "execution_count": null,
   "id": "21a7e73a-5af5-43b2-881b-b5fb0d3c7598",
   "metadata": {},
   "outputs": [],
   "source": []
  },
  {
   "cell_type": "markdown",
   "id": "db489464-1b9a-461f-8726-24a8f76bec1a",
   "metadata": {},
   "source": [
    "Ques 4. Create a list of length 10 of your choice containing multiple types of data. Using for loop print the\n",
    "element and its data type."
   ]
  },
  {
   "cell_type": "code",
   "execution_count": 27,
   "id": "22527e06-4d1a-473d-832b-08091d8f75de",
   "metadata": {},
   "outputs": [],
   "source": [
    "l = [8,6,5,3,\"sudhakar\",True,55.5,\"pwskills\",23.3,False]"
   ]
  },
  {
   "cell_type": "code",
   "execution_count": 28,
   "id": "43d38715-4eaa-4246-8c94-cc80cce0af59",
   "metadata": {},
   "outputs": [
    {
     "data": {
      "text/plain": [
       "[8, 6, 5, 3, 'sudhakar', True, 55.5, 'pwskills', 23.3, False]"
      ]
     },
     "execution_count": 28,
     "metadata": {},
     "output_type": "execute_result"
    }
   ],
   "source": [
    "l"
   ]
  },
  {
   "cell_type": "code",
   "execution_count": 30,
   "id": "721023ba-2135-40b7-992e-7219161acd43",
   "metadata": {},
   "outputs": [
    {
     "name": "stdout",
     "output_type": "stream",
     "text": [
      "<class 'int'>\n",
      "8\n",
      "<class 'int'>\n",
      "<class 'int'>\n",
      "5\n",
      "<class 'int'>\n",
      "3\n",
      "<class 'str'>\n",
      "sudhakar\n",
      "<class 'bool'>\n",
      "True\n",
      "<class 'float'>\n",
      "55.5\n",
      "<class 'str'>\n",
      "pwskills\n",
      "<class 'float'>\n",
      "23.3\n",
      "<class 'bool'>\n",
      "False\n",
      "this will be executed once for loop will comoplete itself succefully\n"
     ]
    }
   ],
   "source": [
    "for i in l : \n",
    "    print(type(i))\n",
    "    if i == 6 :\n",
    "        continue\n",
    "    print(i)\n",
    "else :\n",
    "    print(\"this will be executed once for loop will comoplete itself succefully\")"
   ]
  },
  {
   "cell_type": "code",
   "execution_count": null,
   "id": "4deb5f52-6f7d-4471-aece-d9c32a03c87e",
   "metadata": {},
   "outputs": [],
   "source": []
  },
  {
   "cell_type": "markdown",
   "id": "a68a0eb0-b804-4a10-bc2c-f569f00b74df",
   "metadata": {},
   "source": [
    "Ques 5. Using a while loop, verify if the number A is purely divisible by number B and if so then how many\n",
    "times it can be divisible."
   ]
  },
  {
   "cell_type": "code",
   "execution_count": 33,
   "id": "dae90a19-9822-4960-8469-1b9f88bf3b4a",
   "metadata": {},
   "outputs": [
    {
     "name": "stdin",
     "output_type": "stream",
     "text": [
      "Enter number A:  10\n",
      "Enter number B:  3\n"
     ]
    },
    {
     "name": "stdout",
     "output_type": "stream",
     "text": [
      "10 is not purely divisible by 3.\n"
     ]
    }
   ],
   "source": [
    "A = int(input(\"Enter number A: \"))\n",
    "B = int(input(\"Enter number B: \"))\n",
    "count = 0\n",
    "while A % B == 0:\n",
    "    A = A // B  \n",
    "    count += 1  \n",
    "if A == 0:\n",
    "    print(f\"{A} is purely divisible by {B} {count} times.\")\n",
    "else:\n",
    "    print(f\"{A} is not purely divisible by {B}.\")\n",
    "\n"
   ]
  },
  {
   "cell_type": "code",
   "execution_count": null,
   "id": "2ba6dd42-91de-4cf8-b04b-a9cea34472c8",
   "metadata": {},
   "outputs": [],
   "source": []
  },
  {
   "cell_type": "markdown",
   "id": "f45f758a-cf29-4c66-847b-b7a7da0e5f44",
   "metadata": {},
   "source": [
    "Ques 6. Create a list containing 25 int type data. Using for loop and if-else condition print if the element is\n",
    "divisible by 3 or not."
   ]
  },
  {
   "cell_type": "code",
   "execution_count": 35,
   "id": "87872448-537c-40c4-95d9-0727dfa9bf22",
   "metadata": {},
   "outputs": [
    {
     "name": "stdout",
     "output_type": "stream",
     "text": [
      "12 is divisible by 3.\n",
      "6 is divisible by 3.\n",
      "8 is not divisible by 3.\n",
      "27 is divisible by 3.\n",
      "15 is divisible by 3.\n",
      "10 is not divisible by 3.\n",
      "21 is divisible by 3.\n",
      "9 is divisible by 3.\n",
      "14 is not divisible by 3.\n",
      "30 is divisible by 3.\n",
      "18 is divisible by 3.\n",
      "5 is not divisible by 3.\n",
      "24 is divisible by 3.\n",
      "33 is divisible by 3.\n",
      "7 is not divisible by 3.\n",
      "22 is not divisible by 3.\n",
      "36 is divisible by 3.\n",
      "2 is not divisible by 3.\n",
      "4 is not divisible by 3.\n",
      "16 is not divisible by 3.\n",
      "45 is divisible by 3.\n",
      "3 is divisible by 3.\n",
      "11 is not divisible by 3.\n",
      "42 is divisible by 3.\n",
      "13 is not divisible by 3.\n"
     ]
    }
   ],
   "source": [
    "l = [12, 6, 8, 27, 15, 10, 21, 9, 14, 30, 18, 5, 24, 33, 7, 22, 36, 2, 4, 16, 45, 3, 11, 42, 13]\n",
    "for i in l:\n",
    "    if i % 3 == 0:\n",
    "        print(f\"{i} is divisible by 3.\")\n",
    "    else:\n",
    "        print(f\"{i} is not divisible by 3.\")\n"
   ]
  },
  {
   "cell_type": "code",
   "execution_count": null,
   "id": "f2443593-6742-4c7f-ab73-ee1fe04d8bac",
   "metadata": {},
   "outputs": [],
   "source": []
  },
  {
   "cell_type": "markdown",
   "id": "64cc3689-45fd-4772-9dd7-f8d61af77a85",
   "metadata": {},
   "source": [
    "Ques 7. What do you understand about mutable and immutable data types? Give examples for both showing\n",
    "this property."
   ]
  },
  {
   "cell_type": "markdown",
   "id": "3874d107-a99e-45d7-a690-c5bd0401e5d5",
   "metadata": {},
   "source": [
    "Mutable data types are those whose values can be modified after they are created."
   ]
  },
  {
   "cell_type": "markdown",
   "id": "915a9b3f-0935-46c0-9b1d-cb55cdff0808",
   "metadata": {},
   "source": [
    "In list mutability are allowed"
   ]
  },
  {
   "cell_type": "code",
   "execution_count": 36,
   "id": "f846d00b-029e-401a-987d-59a60c1415eb",
   "metadata": {},
   "outputs": [],
   "source": [
    "l = [5,8,9,6,\"sudhakar\",True,55.5]"
   ]
  },
  {
   "cell_type": "code",
   "execution_count": 37,
   "id": "7201d692-308f-4b39-8d59-f582dac4a553",
   "metadata": {},
   "outputs": [
    {
     "data": {
      "text/plain": [
       "[5, 8, 9, 6, 'sudhakar', True, 55.5]"
      ]
     },
     "execution_count": 37,
     "metadata": {},
     "output_type": "execute_result"
    }
   ],
   "source": [
    "l"
   ]
  },
  {
   "cell_type": "code",
   "execution_count": 38,
   "id": "acd21279-6598-4c07-9954-faa4af65661d",
   "metadata": {},
   "outputs": [],
   "source": [
    "l[2]=500"
   ]
  },
  {
   "cell_type": "code",
   "execution_count": 39,
   "id": "5564ca0d-cf40-4dbb-8195-8caee8cee3f5",
   "metadata": {},
   "outputs": [
    {
     "data": {
      "text/plain": [
       "[5, 8, 500, 6, 'sudhakar', True, 55.5]"
      ]
     },
     "execution_count": 39,
     "metadata": {},
     "output_type": "execute_result"
    }
   ],
   "source": [
    "l"
   ]
  },
  {
   "cell_type": "markdown",
   "id": "bdc13fa5-1f1f-4d1f-b72e-13e3d532779a",
   "metadata": {},
   "source": [
    "Immutable data types are those whose values cannot be modified once they are created."
   ]
  },
  {
   "cell_type": "markdown",
   "id": "d435ef09-4cfe-4ba1-89ce-e5d032acd4d9",
   "metadata": {},
   "source": [
    "In string mutability are not allowed"
   ]
  },
  {
   "cell_type": "code",
   "execution_count": 40,
   "id": "0f542c11-b262-4a18-a2bc-4c4952f7fe16",
   "metadata": {},
   "outputs": [],
   "source": [
    "s = \"sudhakar\""
   ]
  },
  {
   "cell_type": "code",
   "execution_count": 41,
   "id": "b70707ee-604e-4306-a81c-af9205110769",
   "metadata": {},
   "outputs": [
    {
     "data": {
      "text/plain": [
       "'sudhakar'"
      ]
     },
     "execution_count": 41,
     "metadata": {},
     "output_type": "execute_result"
    }
   ],
   "source": [
    "s"
   ]
  },
  {
   "cell_type": "code",
   "execution_count": 42,
   "id": "3ded0f51-b9d2-4691-8de8-20abcb055192",
   "metadata": {},
   "outputs": [
    {
     "ename": "NameError",
     "evalue": "name 'p' is not defined",
     "output_type": "error",
     "traceback": [
      "\u001b[0;31m---------------------------------------------------------------------------\u001b[0m",
      "\u001b[0;31mNameError\u001b[0m                                 Traceback (most recent call last)",
      "Cell \u001b[0;32mIn[42], line 1\u001b[0m\n\u001b[0;32m----> 1\u001b[0m s[\u001b[38;5;241m2\u001b[39m]\u001b[38;5;241m=\u001b[39m\u001b[43mp\u001b[49m\n",
      "\u001b[0;31mNameError\u001b[0m: name 'p' is not defined"
     ]
    }
   ],
   "source": [
    "s[2]=p"
   ]
  },
  {
   "cell_type": "code",
   "execution_count": null,
   "id": "dc2a92ec-4480-4d8b-9a5e-52d5d81e6551",
   "metadata": {},
   "outputs": [],
   "source": []
  }
 ],
 "metadata": {
  "kernelspec": {
   "display_name": "Python 3 (ipykernel)",
   "language": "python",
   "name": "python3"
  },
  "language_info": {
   "codemirror_mode": {
    "name": "ipython",
    "version": 3
   },
   "file_extension": ".py",
   "mimetype": "text/x-python",
   "name": "python",
   "nbconvert_exporter": "python",
   "pygments_lexer": "ipython3",
   "version": "3.10.8"
  }
 },
 "nbformat": 4,
 "nbformat_minor": 5
}
